{
 "cells": [
  {
   "cell_type": "markdown",
   "metadata": {},
   "source": [
    "## Setup"
   ]
  },
  {
   "cell_type": "markdown",
   "metadata": {},
   "source": [
    "To make the creation of strategies as simple as possible, WDSS has created a Python module which handles gameplay and provides a base strategy for you to work from. The game and base strategy are imported in the following code block."
   ]
  },
  {
   "cell_type": "code",
   "execution_count": 1,
   "metadata": {},
   "outputs": [],
   "source": [
    "import os\n",
    "import sys\n",
    "\n",
    "if 'google.colab' in str(get_ipython()):\n",
    "    if not os.path.exists('game-theory-beyond-the-book'):\n",
    "        !git clone https://github.com/warwickdatascience/game-theory-beyond-the-book.git\n",
    "    else:\n",
    "        !git -C game-theory-beyond-the-book pull\n",
    "    sys.path.append('game-theory-beyond-the-book/src') \n",
    "else:\n",
    "    sys.path.append('../src')\n",
    "    \n",
    "from gtbtb import Game, BaseStrategy"
   ]
  },
  {
   "cell_type": "markdown",
   "metadata": {},
   "source": [
    "If you want to use any other packages/modules, you can import them here. For example, we will use the `random` module for a random strategy. Make sure you only include packages/modules that are part of the standard Python library."
   ]
  },
  {
   "cell_type": "code",
   "execution_count": 2,
   "metadata": {},
   "outputs": [],
   "source": [
    "import random"
   ]
  },
  {
   "cell_type": "markdown",
   "metadata": {},
   "source": [
    "## Example Strategies"
   ]
  },
  {
   "cell_type": "markdown",
   "metadata": {},
   "source": [
    "### Random Honest"
   ]
  },
  {
   "cell_type": "markdown",
   "metadata": {},
   "source": [
    "By itself, the iterated game of split-or-steal is not incredibly interesting. When no communication between players is allowed, it is often possible to easily find the optimal strategy of a pair using mathematics directly. If that is so, why are we bothering with simulation? The answer is, so we can take it further than this basic ruleset."
   ]
  },
  {
   "cell_type": "markdown",
   "metadata": {},
   "source": [
    "To do this, we allow partipicants to write two additional components to their strategies: intentions and responses. We will begin with the former. This allows a player to broadcast what move they plan to make to the opponent before they commit. This allows the other player to alter their strategy in light of this information. That said, there is nothing stopping a player from lying about what they intend to do, a extra layer of interest we will explore in another notebook."
   ]
  },
  {
   "cell_type": "markdown",
   "metadata": {},
   "source": [
    "To broadcast intentions, we must augment our standard strategy definition by adding a `state_intention` method. This should return either `0` or `1` as in `state_action`. For example, we can create a strategy that plays randomly but is at least honest about it. To do this, we can create an _attribute_ of the strategy `self.intention` to store the intention generated in `state_intention` to be accessed in `state_action`."
   ]
  },
  {
   "cell_type": "code",
   "execution_count": 3,
   "metadata": {},
   "outputs": [],
   "source": [
    "class RandomHonest(BaseStrategy):\n",
    "    \n",
    "    def state_action(self):\n",
    "        return self.intention\n",
    "    \n",
    "    def state_intention(self):\n",
    "        self.intention = random.choice((0, 1))\n",
    "        return self.intention"
   ]
  },
  {
   "cell_type": "markdown",
   "metadata": {},
   "source": [
    "Note, that if we don't define a `state_intention` method, then the default behaviour taken from `BaseStrategy` is to return `None`. \n",
    "\n",
    "Let's create a completely trusting strategy that mimics its opponents intentions. To access this intention, we use `self.game.get_history` as in the state management notebook, but replace `\"action\"` with `\"intention\"`."
   ]
  },
  {
   "cell_type": "code",
   "execution_count": 4,
   "metadata": {},
   "outputs": [],
   "source": [
    "class Trusting(BaseStrategy):\n",
    "    \n",
    "    def state_action(self):\n",
    "        op_int = self.game.get_history(self.op_id, \"intention\")[-1]\n",
    "        if op_int is None:\n",
    "            # Play randomly if no intention given\n",
    "            return random.choice((0, 1))\n",
    "        return op_int"
   ]
  },
  {
   "cell_type": "markdown",
   "metadata": {},
   "source": [
    "Playing these strategies against each other we can see that their moves always line up, both splitting when `RandomHonest` splits and both stealing otherwise, leaving final scores centred around 25."
   ]
  },
  {
   "cell_type": "code",
   "execution_count": 15,
   "metadata": {},
   "outputs": [
    {
     "data": {
      "text/plain": [
       "{0: 24.45, 1: 24.45}"
      ]
     },
     "execution_count": 15,
     "metadata": {},
     "output_type": "execute_result"
    }
   ],
   "source": [
    "Game(strategies=(RandomHonest, Trusting), iterations=1000).get_results()"
   ]
  },
  {
   "cell_type": "markdown",
   "metadata": {},
   "source": [
    "### Empty Threatener"
   ]
  },
  {
   "cell_type": "markdown",
   "metadata": {},
   "source": [
    "Our second extension to the standard iterated split-or-steal game is to allow players to threaten how they will respond to their opponent's next action. We do this by creating a `state_response` method (else `None` is returned by default). This, however, does not need to simply return the value `0` or `1`, but rather a dictionary with keys `0` and `1` with values chosen from `0` and `1`. These will represent what response will be made given each possible move of the opponent. That said, as before, lying is allowed and may create interesting strategies."
   ]
  },
  {
   "cell_type": "markdown",
   "metadata": {},
   "source": [
    "For example, we can create a player that threatens to steal next move if their opponent steals but then doesn't follow through."
   ]
  },
  {
   "cell_type": "code",
   "execution_count": 16,
   "metadata": {},
   "outputs": [],
   "source": [
    "class EmptyThreatener(BaseStrategy):\n",
    "    \n",
    "    def state_action(self):\n",
    "        return 0\n",
    "    \n",
    "    def state_intention(self):\n",
    "        return self.game.get_history(self.op_id, \"action\")[-1]\n",
    "    \n",
    "    def state_response(self):\n",
    "        return {0: 0, 1: 1}"
   ]
  },
  {
   "cell_type": "markdown",
   "metadata": {},
   "source": [
    "Just as with actions and intentions, we can access the opponent's "
   ]
  }
 ],
 "metadata": {
  "kernelspec": {
   "display_name": "Python 3",
   "language": "python",
   "name": "python3"
  },
  "language_info": {
   "codemirror_mode": {
    "name": "ipython",
    "version": 3
   },
   "file_extension": ".py",
   "mimetype": "text/x-python",
   "name": "python",
   "nbconvert_exporter": "python",
   "pygments_lexer": "ipython3",
   "version": "3.7.6"
  }
 },
 "nbformat": 4,
 "nbformat_minor": 4
}

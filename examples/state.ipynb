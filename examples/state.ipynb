{
 "cells": [
  {
   "cell_type": "markdown",
   "metadata": {},
   "source": [
    "## Setup"
   ]
  },
  {
   "cell_type": "markdown",
   "metadata": {},
   "source": [
    "To make the creation of strategies as simple as possible, WDSS has created a Python module which handles gameplay and provides a base strategy for you to work from. The game and base strategy are imported in the following code block."
   ]
  },
  {
   "cell_type": "code",
   "execution_count": 2,
   "metadata": {},
   "outputs": [],
   "source": [
    "import os\n",
    "import sys\n",
    "\n",
    "if 'google.colab' in str(get_ipython()):\n",
    "    if not os.path.exists('game-theory-beyond-the-book'):\n",
    "        !git clone https://github.com/warwickdatascience/game-theory-beyond-the-book.git\n",
    "    else:\n",
    "        !git -C game-theory-beyond-the-book pull\n",
    "    sys.path.append('game-theory-beyond-the-book/src') \n",
    "else:\n",
    "    sys.path.append('../src')\n",
    "    \n",
    "from gtbtb import Game, BaseStrategy"
   ]
  },
  {
   "cell_type": "markdown",
   "metadata": {},
   "source": [
    "If you want to use any other packages/modules, you can import them here. For example, we will use the `random` module for a random strategy. Make sure you only include packages/modules that are part of the standard Python library."
   ]
  },
  {
   "cell_type": "code",
   "execution_count": 3,
   "metadata": {},
   "outputs": [],
   "source": [
    "import random"
   ]
  },
  {
   "cell_type": "markdown",
   "metadata": {},
   "source": [
    "## Example Strategies"
   ]
  },
  {
   "cell_type": "markdown",
   "metadata": {},
   "source": [
    "### Tit-for-Tat"
   ]
  },
  {
   "cell_type": "markdown",
   "metadata": {},
   "source": [
    "A classic stategy for split-or-steal is tit-for-tat. This plays the opponents move back at them with the hope of teaching them to \"play nicely\". To implement such a strategy, we will have to access information about the game state. Specifically, we will need to know what turn we are currently on (so we can play split by default on the first turn) as well as the history of opponents moves. The first we access using\n",
    "\n",
    "```python\n",
    "self.game.get_history(self.op_id, \"action\")\n",
    "```\n",
    "\n",
    "This will give us a list of all moved previously played by our opponent. We could replace `op_id` with `my_id` to obtain our own history or replace `\"action\"` with `\"intention\"` or `\"response\"` to obtain a record of what the opponent _said_ they would do (more on this in a coming notebook). Those familiar with Python will know that we can obtain the last history entry using `[-1]`.\n",
    "\n",
    "The finally strategy will look something like the following."
   ]
  },
  {
   "cell_type": "code",
   "execution_count": 4,
   "metadata": {},
   "outputs": [],
   "source": [
    "class TitForTat(BaseStrategy):\n",
    "    \n",
    "    def state_action(self):\n",
    "        if self.game.get_turn() == 1:\n",
    "            return 0  # start playing nice\n",
    "        return self.game.get_history(self.op_id, \"action\")[-1]"
   ]
  },
  {
   "cell_type": "markdown",
   "metadata": {},
   "source": [
    "This strategy is not willing to be pushed around by a nasty strategy (apart from the first round in which it gives the benefit of the doubt)."
   ]
  },
  {
   "cell_type": "code",
   "execution_count": 5,
   "metadata": {},
   "outputs": [],
   "source": [
    "class Nasty(BaseStrategy):\n",
    "    \n",
    "    def state_action(self):\n",
    "        return 1"
   ]
  },
  {
   "cell_type": "code",
   "execution_count": 6,
   "metadata": {},
   "outputs": [
    {
     "data": {
      "text/plain": [
       "{0: 0.0, 1: 1.0}"
      ]
     },
     "execution_count": 6,
     "metadata": {},
     "output_type": "execute_result"
    }
   ],
   "source": [
    "Game(strategies=(TitForTat, Nasty), iterations=100).get_results()"
   ]
  },
  {
   "cell_type": "markdown",
   "metadata": {},
   "source": [
    "### Alternator"
   ]
  },
  {
   "cell_type": "markdown",
   "metadata": {},
   "source": [
    "We can also access our own previous actions by replacing `self.op_id` with `self.my_id`. For example, we can make a strategy that alternates splitting and stealing."
   ]
  },
  {
   "cell_type": "code",
   "execution_count": 7,
   "metadata": {},
   "outputs": [],
   "source": [
    "class Alternator(BaseStrategy):\n",
    "    \n",
    "    def state_action(self):\n",
    "        if self.game.get_turn() == 1:\n",
    "            return 0  # start playing nice\n",
    "        return self.game.get_history(self.my_id, \"action\")[-1]"
   ]
  },
  {
   "cell_type": "markdown",
   "metadata": {},
   "source": [
    "### Nice-for-Now"
   ]
  },
  {
   "cell_type": "markdown",
   "metadata": {},
   "source": [
    "Finitely-iterated games are particularly of interest because there is incentive to deviate from a fair strategy. After all, the closer we are to finishing the game, the less one's reputation matters. For example, we may want to create a strategy that plays nice until the final move whenever the game is finite (always playing nice in infinite games to be on the safe side)."
   ]
  },
  {
   "cell_type": "code",
   "execution_count": 8,
   "metadata": {},
   "outputs": [],
   "source": [
    "class NiceForNow(BaseStrategy):\n",
    "    \n",
    "    def state_action(self):\n",
    "        if not self.game.get_infinite() and \\\n",
    "            self.game.get_turn() == self.game.get_iterations():\n",
    "            return 1\n",
    "        return 0"
   ]
  },
  {
   "cell_type": "code",
   "execution_count": 9,
   "metadata": {},
   "outputs": [],
   "source": [
    "class Nice(BaseStrategy):\n",
    "    \n",
    "    def state_action(self):\n",
    "        return 0"
   ]
  },
  {
   "cell_type": "code",
   "execution_count": 10,
   "metadata": {},
   "outputs": [
    {
     "data": {
      "text/plain": [
       "{0: 45.0, 1: 55.0}"
      ]
     },
     "execution_count": 10,
     "metadata": {},
     "output_type": "execute_result"
    }
   ],
   "source": [
    "Game(strategies=(Nice, NiceForNow), iterations=10).get_results()"
   ]
  },
  {
   "cell_type": "markdown",
   "metadata": {},
   "source": [
    "### Grudger"
   ]
  },
  {
   "cell_type": "markdown",
   "metadata": {},
   "source": [
    "Strategies are allowed to maintain their own internal state, additional to that provided by the game. For example, we could write a strategy that plays nice until the opponent steals, at which point it steals forever. To initialise the strategy's internal state we have to define an `__init__(self, game, id_)` method. In this, we can create attributes to monitor the state using `self.attr_name = attr_value`. Finally, we close the `__init__` block using `super().__init__(game, id_)`. We won't get into what all of this means; just trust us that you need it!"
   ]
  },
  {
   "cell_type": "code",
   "execution_count": 11,
   "metadata": {},
   "outputs": [],
   "source": [
    "class Grudger(BaseStrategy):\n",
    "    \n",
    "    def __init__(self, game, id_):\n",
    "        self.grudging = False\n",
    "        super().__init__(game, id_)\n",
    "    \n",
    "    def state_action(self):\n",
    "        # Start nice\n",
    "        if self.game.get_turn() == 1:\n",
    "            return 0\n",
    "        # Already grudging\n",
    "        if self.grudging:\n",
    "            return 1\n",
    "        # Starting to grudge\n",
    "        if self.game.get_history(self.op_id, \"action\")[-1] == 1:\n",
    "            self.grudging = True\n",
    "            return 1\n",
    "        # No grudging yet\n",
    "        return 0"
   ]
  },
  {
   "cell_type": "code",
   "execution_count": 12,
   "metadata": {},
   "outputs": [],
   "source": [
    "class Random(BaseStrategy):\n",
    "    \n",
    "    def state_action(self):\n",
    "        action = random.choice((0, 1))\n",
    "        return action"
   ]
  },
  {
   "cell_type": "code",
   "execution_count": 13,
   "metadata": {},
   "outputs": [
    {
     "data": {
      "text/plain": [
       "{0: 53.0, 1: 1.0}"
      ]
     },
     "execution_count": 13,
     "metadata": {},
     "output_type": "execute_result"
    }
   ],
   "source": [
    "Game(strategies=(Grudger, Random), iterations=100).get_results()"
   ]
  }
 ],
 "metadata": {
  "kernelspec": {
   "display_name": "Python 3",
   "language": "python",
   "name": "python3"
  },
  "language_info": {
   "codemirror_mode": {
    "name": "ipython",
    "version": 3
   },
   "file_extension": ".py",
   "mimetype": "text/x-python",
   "name": "python",
   "nbconvert_exporter": "python",
   "pygments_lexer": "ipython3",
   "version": "3.7.6"
  }
 },
 "nbformat": 4,
 "nbformat_minor": 4
}

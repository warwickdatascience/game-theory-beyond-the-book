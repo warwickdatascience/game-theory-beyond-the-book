{
 "cells": [
  {
   "cell_type": "markdown",
   "metadata": {},
   "source": [
    "## Setup"
   ]
  },
  {
   "cell_type": "markdown",
   "metadata": {},
   "source": [
    "To make the creation of strategies as simple as possible, WDSS has created a Python module which handles game play and provides a base strategy for you to work from. The game and base strategy are imported in the following code block."
   ]
  },
  {
   "cell_type": "code",
   "execution_count": null,
   "metadata": {},
   "outputs": [],
   "source": [
    "import os\n",
    "import sys\n",
    "\n",
    "if 'google.colab' in str(get_ipython()):\n",
    "    if not os.path.exists('game-theory-beyond-the-book'):\n",
    "        !git clone https://github.com/warwickdatascience/game-theory-beyond-the-book.git\n",
    "    else:\n",
    "        !git -C game-theory-beyond-the-book pull\n",
    "    sys.path.append('game-theory-beyond-the-book/src') \n",
    "else:\n",
    "    sys.path.append('../src')\n",
    "    \n",
    "from gtbtb import Game, BaseStrategy"
   ]
  },
  {
   "cell_type": "markdown",
   "metadata": {},
   "source": [
    "If you want to use any other packages/modules, you can import them here."
   ]
  },
  {
   "cell_type": "code",
   "execution_count": null,
   "metadata": {},
   "outputs": [],
   "source": [
    "import time"
   ]
  },
  {
   "cell_type": "markdown",
   "metadata": {},
   "source": [
    "## Tutorial"
   ]
  },
  {
   "cell_type": "markdown",
   "metadata": {},
   "source": [
    "### Time Limits"
   ]
  },
  {
   "cell_type": "markdown",
   "metadata": {},
   "source": [
    "Each player is given 10 seconds per turn for their intention, response, and action code to execute collectively. Failing this will result in disqualification for that game, with all points being allocated the opponent."
   ]
  },
  {
   "cell_type": "code",
   "execution_count": null,
   "metadata": {},
   "outputs": [],
   "source": [
    "class Sleepy(BaseStrategy):\n",
    "    \n",
    "    def state_action(self):\n",
    "        time.sleep(15)\n",
    "        return 0"
   ]
  },
  {
   "cell_type": "code",
   "execution_count": null,
   "metadata": {},
   "outputs": [],
   "source": [
    "class Nice(BaseStrategy):\n",
    "    \n",
    "    def state_action(self):\n",
    "        return 0"
   ]
  },
  {
   "cell_type": "code",
   "execution_count": 5,
   "metadata": {},
   "outputs": [
    {
     "name": "stdout",
     "output_type": "stream",
     "text": [
      "Player 0 was disqualified\n"
     ]
    },
    {
     "data": {
      "text/plain": [
       "{0: 0.0, 1: 100.0}"
      ]
     },
     "execution_count": 5,
     "metadata": {},
     "output_type": "execute_result"
    }
   ],
   "source": [
    "Game(strategies=(Sleepy, Nice), iterations=100).get_results()"
   ]
  },
  {
   "cell_type": "markdown",
   "metadata": {},
   "source": [
    "### Errors"
   ]
  },
  {
   "cell_type": "markdown",
   "metadata": {},
   "source": [
    "Likewise, code that produces errors will be disqualified for that specific game. In later notebook we will show how to debug code to find errors."
   ]
  },
  {
   "cell_type": "code",
   "execution_count": 6,
   "metadata": {},
   "outputs": [],
   "source": [
    "class Silly(BaseStrategy):\n",
    "    \n",
    "    def state_action(self):\n",
    "        0 / 0 # error\n",
    "        return 0"
   ]
  },
  {
   "cell_type": "code",
   "execution_count": 7,
   "metadata": {},
   "outputs": [
    {
     "name": "stdout",
     "output_type": "stream",
     "text": [
      "Player 0 was disqualified\n"
     ]
    },
    {
     "data": {
      "text/plain": [
       "{0: 0.0, 1: 100.0}"
      ]
     },
     "execution_count": 7,
     "metadata": {},
     "output_type": "execute_result"
    }
   ],
   "source": [
    "Game(strategies=(Silly, Nice), iterations=100).get_results()"
   ]
  },
  {
   "cell_type": "markdown",
   "metadata": {},
   "source": [
    "### Invalid Responses"
   ]
  },
  {
   "cell_type": "markdown",
   "metadata": {},
   "source": [
    "Finally, returning an invalid response will result in disqualification for the game."
   ]
  },
  {
   "cell_type": "code",
   "execution_count": 8,
   "metadata": {},
   "outputs": [],
   "source": [
    "class Sleazy(BaseStrategy):\n",
    "    \n",
    "    def state_action(self):\n",
    "        return 2"
   ]
  },
  {
   "cell_type": "code",
   "execution_count": 9,
   "metadata": {},
   "outputs": [
    {
     "name": "stdout",
     "output_type": "stream",
     "text": [
      "Player 0 was disqualified\n"
     ]
    },
    {
     "data": {
      "text/plain": [
       "{0: 0.0, 1: 100.0}"
      ]
     },
     "execution_count": 9,
     "metadata": {},
     "output_type": "execute_result"
    }
   ],
   "source": [
    "Game(strategies=(Sleazy, Nice), iterations=100).get_results()"
   ]
  },
  {
   "cell_type": "markdown",
   "metadata": {},
   "source": [
    "### Turn Order"
   ]
  },
  {
   "cell_type": "markdown",
   "metadata": {},
   "source": [
    "The player with ID zero `0` has to state their intention, response, and action before player `1`, respectively. This makes no difference to gameplay as these are revealed effectively simultaneously to the players. The only case that this matters is if corresponding methods of both players were going to fail, in which case player `0` would be disqualified since they execute their code first. Player IDs are chosen at random so on average this balances out."
   ]
  },
  {
   "cell_type": "markdown",
   "metadata": {},
   "source": [
    "We will start by creating a simple strategy that simply splits on every move. The code for this is as follows."
   ]
  },
  {
   "cell_type": "code",
   "execution_count": 10,
   "metadata": {},
   "outputs": [],
   "source": [
    "class Nice(BaseStrategy):\n",
    "    \n",
    "    def state_action(self):\n",
    "        return 0"
   ]
  },
  {
   "cell_type": "markdown",
   "metadata": {},
   "source": [
    "Let's break this down line-by-line."
   ]
  },
  {
   "cell_type": "markdown",
   "metadata": {},
   "source": [
    "```python\n",
    "class Nice(BaseStrategy):\n",
    "```\n",
    "\n",
    "This creates a strategy called `Nice`, based on our base strategy `BaseStrategy`. Everything that is part of this strategy will appear on the following lines, indented by a tab.\n",
    "\n",
    "```python\n",
    "def state_action(self):\n",
    "```\n",
    "\n",
    "This code **def**ines how our strategy should make an action (that is, what move it should play each turn). The code for generating the action should appear in the following lines, indented one tab further.\n",
    "\n",
    "```python\n",
    "return 0\n",
    "```\n",
    "\n",
    "The class controlling the simulation will be expecting the strategy to return whatever move it wants to play. This can be `0` for split or `1` for steal. In this case, we want to create a nice player that always splits and so we return `0`."
   ]
  },
  {
   "cell_type": "markdown",
   "metadata": {},
   "source": [
    "### Nasty"
   ]
  },
  {
   "cell_type": "markdown",
   "metadata": {},
   "source": [
    "We could equally make a \"nasty\" strategy by always returning `1`:"
   ]
  },
  {
   "cell_type": "code",
   "execution_count": 11,
   "metadata": {},
   "outputs": [],
   "source": [
    "class Nasty(BaseStrategy):\n",
    "    \n",
    "    def state_action(self):\n",
    "        return 1"
   ]
  },
  {
   "cell_type": "markdown",
   "metadata": {},
   "source": [
    "### Random"
   ]
  },
  {
   "cell_type": "markdown",
   "metadata": {},
   "source": [
    "We are free to use any packages/modules in base Python when defining our strategies. For example, we could use the `random` module (imported at the top of the notebook) to create an entirely random strategy."
   ]
  },
  {
   "cell_type": "code",
   "execution_count": 12,
   "metadata": {},
   "outputs": [],
   "source": [
    "class Random(BaseStrategy):\n",
    "    \n",
    "    def state_action(self):\n",
    "        action = random.choice((0, 1))\n",
    "        return action"
   ]
  },
  {
   "cell_type": "markdown",
   "metadata": {},
   "source": [
    "## Comparing Strategies"
   ]
  },
  {
   "cell_type": "markdown",
   "metadata": {},
   "source": [
    "We can compare strategies by simulating a game between them. For example we can play two nice strategies against each other."
   ]
  },
  {
   "cell_type": "code",
   "execution_count": 13,
   "metadata": {},
   "outputs": [
    {
     "name": "stdout",
     "output_type": "stream",
     "text": [
      "{0: 50.0, 1: 50.0}\n"
     ]
    }
   ],
   "source": [
    "game = Game(strategies=(Nice, Nice), iterations=100)\n",
    "print(game.get_results())"
   ]
  },
  {
   "cell_type": "markdown",
   "metadata": {},
   "source": [
    "Or a random strategy against a nasty strategy."
   ]
  },
  {
   "cell_type": "code",
   "execution_count": 14,
   "metadata": {},
   "outputs": [
    {
     "name": "stdout",
     "output_type": "stream",
     "text": [
      "Player 0 was disqualified\n",
      "{0: 0.0, 1: 100.0}\n"
     ]
    }
   ],
   "source": [
    "game = Game(strategies=(Random, Nasty), iterations=100)\n",
    "print(game.get_results())"
   ]
  }
 ],
 "metadata": {
  "kernelspec": {
   "display_name": "Python 3",
   "language": "python",
   "name": "python3"
  },
  "language_info": {
   "codemirror_mode": {
    "name": "ipython",
    "version": 3
   },
   "file_extension": ".py",
   "mimetype": "text/x-python",
   "name": "python",
   "nbconvert_exporter": "python",
   "pygments_lexer": "ipython3",
   "version": "3.7.6"
  }
 },
 "nbformat": 4,
 "nbformat_minor": 4
}

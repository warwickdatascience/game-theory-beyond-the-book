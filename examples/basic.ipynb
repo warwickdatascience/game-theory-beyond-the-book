{
 "cells": [
  {
   "cell_type": "markdown",
   "metadata": {},
   "source": [
    "## Setup"
   ]
  },
  {
   "cell_type": "markdown",
   "metadata": {},
   "source": [
    "To make the creation of strategies as simple as possible, WDSS has created a Python module which handles gameplay and provides a base strategy for you to work from. The game and base strategy are imported in the following code block."
   ]
  },
  {
   "cell_type": "code",
   "execution_count": 1,
   "metadata": {},
   "outputs": [],
   "source": [
    "import os\n",
    "import sys\n",
    "\n",
    "if 'google.colab' in str(get_ipython()):\n",
    "    if not os.path.exists('game-theory-beyond-the-book'):\n",
    "        !git clone https://github.com/warwickdatascience/game-theory-beyond-the-book.git\n",
    "    else:\n",
    "        !git -C game-theory-beyond-the-book pull\n",
    "    sys.path.append('game-theory-beyond-the-book/src') \n",
    "else:\n",
    "    sys.path.append('../src')\n",
    "    \n",
    "from gtbtb import Game, BaseStrategy"
   ]
  },
  {
   "cell_type": "markdown",
   "metadata": {},
   "source": [
    "If you want to use any other packages/modules, you can import them here. For example, we will use the `random` module for a random strategy. Make sure you only include packages/modules that are part of the standard Python library."
   ]
  },
  {
   "cell_type": "code",
   "execution_count": 2,
   "metadata": {},
   "outputs": [],
   "source": [
    "import random"
   ]
  },
  {
   "cell_type": "markdown",
   "metadata": {},
   "source": [
    "## Example Strategies"
   ]
  },
  {
   "cell_type": "markdown",
   "metadata": {},
   "source": [
    "### Nice"
   ]
  },
  {
   "cell_type": "markdown",
   "metadata": {},
   "source": [
    "We will start by creating a simple strategy that simply splits on every move. The code for this is as follows."
   ]
  },
  {
   "cell_type": "code",
   "execution_count": 3,
   "metadata": {},
   "outputs": [],
   "source": [
    "class Nice(BaseStrategy):\n",
    "    \n",
    "    def state_action(self):\n",
    "        return 0"
   ]
  },
  {
   "cell_type": "markdown",
   "metadata": {},
   "source": [
    "Let's break this down line-by-line."
   ]
  },
  {
   "cell_type": "markdown",
   "metadata": {},
   "source": [
    "```python\n",
    "class Nice(BaseStrategy):\n",
    "```\n",
    "\n",
    "This creates a strategy called `Nice`, based on our base strategy `BaseStrategy`. Everything that is part of this strategy will appear on the following lines, indented by a tab.\n",
    "\n",
    "```python\n",
    "def state_action(self):\n",
    "```\n",
    "\n",
    "This code **def**ines how our strategy should make an action (that is, what move it should play each turn). Although we won't use this functionality in this notebook, we need to put `self` in the brackets to allow us to access information about the game, such as our opponent's moves. The code for generating the action should appear in the following lines, indented one tab further.\n",
    "\n",
    "```python\n",
    "return 0\n",
    "```\n",
    "\n",
    "The class controlling the simulation will be expecting the strategy to return whatever move it wants to play. This can be `0` for split or `1` for steal. In this case, we want to create a nice player that always splits and so we return `0`."
   ]
  },
  {
   "cell_type": "markdown",
   "metadata": {},
   "source": [
    "### Nasty"
   ]
  },
  {
   "cell_type": "markdown",
   "metadata": {},
   "source": [
    "We could equally make a \"nasty\" strategy by always returning `1`:"
   ]
  },
  {
   "cell_type": "code",
   "execution_count": 4,
   "metadata": {},
   "outputs": [],
   "source": [
    "class Nasty(BaseStrategy):\n",
    "    \n",
    "    def state_action(self):\n",
    "        return 1"
   ]
  },
  {
   "cell_type": "markdown",
   "metadata": {},
   "source": [
    "### Random"
   ]
  },
  {
   "cell_type": "markdown",
   "metadata": {},
   "source": [
    "We are free to use any packages/modules in base Python when defining our strategies. For example, we could use the `random` module (imported at the top of the notebook) to create an entirely random strategy."
   ]
  },
  {
   "cell_type": "code",
   "execution_count": 5,
   "metadata": {},
   "outputs": [],
   "source": [
    "class Random(BaseStrategy):\n",
    "    \n",
    "    def state_action(self):\n",
    "        action = random.choice((0, 1))\n",
    "        return action"
   ]
  },
  {
   "cell_type": "markdown",
   "metadata": {},
   "source": [
    "## Comparing Strategies"
   ]
  },
  {
   "cell_type": "markdown",
   "metadata": {},
   "source": [
    "We can compare strategies by simulating a game between them. For example we can play two nice strategies against each other."
   ]
  },
  {
   "cell_type": "code",
   "execution_count": 6,
   "metadata": {},
   "outputs": [
    {
     "data": {
      "text/plain": [
       "{0: 50.0, 1: 50.0}"
      ]
     },
     "execution_count": 6,
     "metadata": {},
     "output_type": "execute_result"
    }
   ],
   "source": [
    "Game(strategies=(Nice, Nice), iterations=100).get_results()"
   ]
  },
  {
   "cell_type": "markdown",
   "metadata": {},
   "source": [
    "Or a random strategy against a nasty strategy."
   ]
  },
  {
   "cell_type": "code",
   "execution_count": 11,
   "metadata": {},
   "outputs": [
    {
     "data": {
      "text/plain": [
       "{0: 0.0, 1: 55.0}"
      ]
     },
     "execution_count": 11,
     "metadata": {},
     "output_type": "execute_result"
    }
   ],
   "source": [
    "Game(strategies=(Random, Nasty), iterations=100).get_results()"
   ]
  }
 ],
 "metadata": {
  "kernelspec": {
   "display_name": "Python 3",
   "language": "python",
   "name": "python3"
  },
  "language_info": {
   "codemirror_mode": {
    "name": "ipython",
    "version": 3
   },
   "file_extension": ".py",
   "mimetype": "text/x-python",
   "name": "python",
   "nbconvert_exporter": "python",
   "pygments_lexer": "ipython3",
   "version": "3.7.6"
  }
 },
 "nbformat": 4,
 "nbformat_minor": 4
}
